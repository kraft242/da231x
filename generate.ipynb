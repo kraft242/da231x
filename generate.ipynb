{
 "cells": [
  {
   "cell_type": "markdown",
   "metadata": {},
   "source": [
    "# Evaluate the minimal-edit Tuned LLM"
   ]
  },
  {
   "cell_type": "markdown",
   "metadata": {},
   "source": [
    "## Imports"
   ]
  },
  {
   "cell_type": "code",
   "execution_count": null,
   "metadata": {},
   "outputs": [],
   "source": [
    "from tqdm.notebook import tqdm\n",
    "from prompts import minimal_prompt, fluency_prompt\n",
    "from os import path, makedirs\n",
    "from transformers import (\n",
    "    AutoModelForCausalLM,\n",
    "    AutoTokenizer,\n",
    "    BitsAndBytesConfig\n",
    ")\n",
    "import torch\n",
    "from datasets import load_from_disk"
   ]
  },
  {
   "cell_type": "markdown",
   "metadata": {},
   "source": [
    "## Variables\n",
    "\n",
    "Change the `version` and `model_label` variables to the version-model combination you want to generate texts.\n",
    "\n",
    "For instance `version = \"fluency\"` and `model_label = \"Viking-13B\"` evaluates the fluency-tuned Viking-13B model.\n"
   ]
  },
  {
   "cell_type": "code",
   "execution_count": null,
   "metadata": {},
   "outputs": [],
   "source": [
    "version = \"fluency\"\n",
    "model_label = \"Viking-7B\"\n",
    "\n",
    "model_path = path.join(\"models\", model_label, version)"
   ]
  },
  {
   "cell_type": "markdown",
   "metadata": {},
   "source": [
    "## Ensure GPU is available"
   ]
  },
  {
   "cell_type": "code",
   "execution_count": null,
   "metadata": {},
   "outputs": [],
   "source": [
    "if not torch.cuda.is_available():\n",
    "    raise RuntimeError(\"GPU is not available for training!\")\n",
    "device = \"cuda:0\""
   ]
  },
  {
   "cell_type": "markdown",
   "metadata": {},
   "source": [
    "## Load Prompt\n",
    "\n",
    "Load the prompt corresponding to the correction style."
   ]
  },
  {
   "cell_type": "code",
   "execution_count": null,
   "metadata": {},
   "outputs": [],
   "source": [
    "prompts = {\"minimal\": minimal_prompt, \"fluency\": fluency_prompt}\n",
    "prompt = prompts[version]"
   ]
  },
  {
   "cell_type": "markdown",
   "metadata": {},
   "source": [
    "## Load Model \n",
    "\n",
    "Since we trained the model with QLoRA, we need to load it with a quantization config.\n",
    "\n",
    "The model is also set to evaluation mode, to not update any weights during generation."
   ]
  },
  {
   "cell_type": "code",
   "execution_count": null,
   "metadata": {},
   "outputs": [],
   "source": [
    "quantization_config = BitsAndBytesConfig(\n",
    "    load_in_4bit=True,\n",
    "    bnb_4bit_quant_type=\"nf4\",\n",
    "    bnb_4bit_compute_dtype=torch.bfloat16\n",
    ")\n",
    "\n",
    "model = AutoModelForCausalLM.from_pretrained(\n",
    "    model_path,\n",
    "    quantization_config=quantization_config,\n",
    "    device_map=\"auto\",\n",
    ")\n",
    "\n",
    "model.eval()"
   ]
  },
  {
   "cell_type": "markdown",
   "metadata": {},
   "source": [
    "## Load Tokenizer"
   ]
  },
  {
   "cell_type": "code",
   "execution_count": null,
   "metadata": {},
   "outputs": [],
   "source": [
    "tokenizer = AutoTokenizer.from_pretrained(model_path)\n",
    "tokenizer.pad_token = tokenizer.eos_token\n",
    "tokenizer.pad_token_id = tokenizer.eos_token_id\n",
    "model.generation_config.pad_token = tokenizer.pad_token\n",
    "model.generation_config.pad_token_id = tokenizer.pad_token_id\n",
    "tokenizer.padding_side = \"left\""
   ]
  },
  {
   "cell_type": "markdown",
   "metadata": {},
   "source": [
    "## Load Dataset\n",
    "\n",
    "Load the dataset corresponding to the correction style from disk."
   ]
  },
  {
   "cell_type": "code",
   "execution_count": null,
   "metadata": {},
   "outputs": [],
   "source": [
    "dataset_path = path.join(\"datasets\", version)\n",
    "dataset = load_from_disk(dataset_path)\n",
    "test_dataset = dataset[\"test\"]"
   ]
  },
  {
   "cell_type": "markdown",
   "metadata": {},
   "source": [
    "## Run Model Inference\n",
    "\n",
    "Begin by setting `max_new_tokens`, which is the maximum amount of tokens that the model should generate.\n",
    "\n",
    "The longest sequence was found separately in the test data and it is multiplied by a \"safety factor\" of 1.2."
   ]
  },
  {
   "cell_type": "code",
   "execution_count": null,
   "metadata": {},
   "outputs": [],
   "source": [
    "results = {}\n",
    "bos = tokenizer.bos_token\n",
    "eos = tokenizer.eos_token\n",
    "\n",
    "for example in tqdm(test_dataset):\n",
    "    source = example[\"source\"]\n",
    "    input_prompt = f\"{prompt}\\n### Indata:\\n{source}\\n### Utdata:\\n{bos}\"\n",
    "\n",
    "    # Tokenize\n",
    "    model_inputs = tokenizer(\n",
    "        input_prompt, padding=False, truncation=False, return_tensors=\"pt\"\n",
    "    )\n",
    "    # Get maximum number of tokens to generate\n",
    "    tokenized_reference = tokenizer(\n",
    "        example[\"target\"], padding=False, truncation=False\n",
    "    )\n",
    "    max_new_tokens = int(1.2 * len(tokenized_reference[\"input_ids\"]))\n",
    "    # Move to GPU\n",
    "    model_inputs = {k: v.to(device) for k, v in model_inputs.items()}\n",
    "\n",
    "    # Generate\n",
    "    with torch.no_grad():\n",
    "        outputs = model.generate(\n",
    "            **model_inputs,\n",
    "            max_new_tokens=max_new_tokens,\n",
    "        )\n",
    "\n",
    "    # Decode\n",
    "    output_text = tokenizer.decode(outputs[0], skip_special_tokens=True)\n",
    "\n",
    "    # Clean and save\n",
    "    output_header = \"### Utdata:\"\n",
    "    clean = clean = output_text.split(output_header)[-1].strip()\n",
    "    results[example[\"id\"]] = clean"
   ]
  },
  {
   "cell_type": "markdown",
   "metadata": {},
   "source": [
    "## Create Output\n",
    "\n",
    "Create a Markdown-structured string to store each output essay."
   ]
  },
  {
   "cell_type": "code",
   "execution_count": null,
   "metadata": {},
   "outputs": [],
   "source": [
    "essays_md = [\n",
    "    f\"### essay_id = {essay_id}\\n{essay}\\n\\n\"\n",
    "    for essay_id, essay in results.items()\n",
    "]\n",
    "output_md = \"\".join(essays_md)"
   ]
  },
  {
   "cell_type": "markdown",
   "metadata": {},
   "source": [
    "Create path to the output file, which has the below format depending on the edit style.\n",
    "\n",
    "| Version      | Path                                                                   |\n",
    "| ------------ | ---------------------------------------------------------------------- |\n",
    "| Minimal Edit | `./outputs/<model_label>/<version>/sv-swell_gold-hypo-test.md`         |\n",
    "| Fluency Edit | `./outputs/<model_label>/<version>/sv-swell_gold-fluency-hypo-test.md` |\n"
   ]
  },
  {
   "cell_type": "code",
   "execution_count": null,
   "metadata": {},
   "outputs": [],
   "source": [
    "output_dir = path.join(\"outputs\", model_label, version)\n",
    "makedirs(output_dir, exist_ok=True)  # Ensure directory exists\n",
    "infix = \"-fluency\" if version == \"fluency\" else \"\"  # Add fluency infix if needed\n",
    "output_file_name = f\"sv-swell_gold{infix}-hypo-test.md\"\n",
    "output_file_md = path.join(output_dir, output_file_name)"
   ]
  },
  {
   "cell_type": "markdown",
   "metadata": {},
   "source": [
    "Write the full output string to the output file."
   ]
  },
  {
   "cell_type": "code",
   "execution_count": null,
   "metadata": {},
   "outputs": [],
   "source": [
    "with open(output_file_md, \"w+\") as f:\n",
    "    f.write(output_md)"
   ]
  }
 ],
 "metadata": {
  "kernelspec": {
   "display_name": "Python 3",
   "language": "python",
   "name": "python3"
  },
  "language_info": {
   "codemirror_mode": {
    "name": "ipython",
    "version": 3
   },
   "file_extension": ".py",
   "mimetype": "text/x-python",
   "name": "python",
   "nbconvert_exporter": "python",
   "pygments_lexer": "ipython3",
   "version": "3.10.13"
  }
 },
 "nbformat": 4,
 "nbformat_minor": 2
}
