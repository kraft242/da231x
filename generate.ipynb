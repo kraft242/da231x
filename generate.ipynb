{
 "cells": [
  {
   "cell_type": "markdown",
   "metadata": {},
   "source": [
    "# Evaluate the minimal-edit Tuned LLM"
   ]
  },
  {
   "cell_type": "markdown",
   "metadata": {},
   "source": [
    "## Imports"
   ]
  },
  {
   "cell_type": "code",
   "execution_count": null,
   "metadata": {},
   "outputs": [],
   "source": [
    "from tqdm.notebook import tqdm\n",
    "from prompts import minimal_prompt, fluency_prompt\n",
    "from os import path, makedirs\n",
    "from transformers import (\n",
    "    AutoModelForCausalLM,\n",
    "    AutoTokenizer,\n",
    ")\n",
    "import torch\n",
    "from torch.utils.data import DataLoader\n",
    "from datasets import load_from_disk\n",
    "from peft import AutoPeftModelForCausalLM"
   ]
  },
  {
   "cell_type": "markdown",
   "metadata": {},
   "source": [
    "## Variables"
   ]
  },
  {
   "cell_type": "code",
   "execution_count": null,
   "metadata": {},
   "outputs": [],
   "source": [
    "version = \"minimal\"\n",
    "model_label = \"Viking-7B\"\n",
    "MAX_LENGTH = 2048  # Well above the max essay length\n",
    "model_path = path.join(\"models\", model_label, version)"
   ]
  },
  {
   "cell_type": "markdown",
   "metadata": {},
   "source": [
    "## Load Model and Dataset"
   ]
  },
  {
   "cell_type": "markdown",
   "metadata": {},
   "source": [
    "## Ensure GPU is available"
   ]
  },
  {
   "cell_type": "code",
   "execution_count": null,
   "metadata": {},
   "outputs": [],
   "source": [
    "if not torch.cuda.is_available():\n",
    "    raise RuntimeError(\"GPU is not available for training!\")\n",
    "device = \"cuda:0\""
   ]
  },
  {
   "cell_type": "code",
   "execution_count": null,
   "metadata": {},
   "outputs": [],
   "source": [
    "prompts = {\"minimal\": minimal_prompt, \"fluency\": fluency_prompt}\n",
    "prompt = prompts[version]"
   ]
  },
  {
   "cell_type": "code",
   "execution_count": null,
   "metadata": {},
   "outputs": [],
   "source": [
    "#model = AutoModelForCausalLM.from_pretrained(model_path)\n",
    "model = AutoPeftModelForCausalLM.from_pretrained(\n",
    "    model_path,\n",
    "    torch_dtype=torch.bfloat16,\n",
    "    load_in_4bit=True\n",
    ")\n",
    "model.to(device)\n",
    "\n",
    "tokenizer = AutoTokenizer.from_pretrained(model_path)"
   ]
  },
  {
   "cell_type": "code",
   "execution_count": null,
   "metadata": {},
   "outputs": [],
   "source": [
    "dataset_path = path.join(\"datasets\", version)\n",
    "dataset = load_from_disk(dataset_path)\n",
    "test_dataset = dataset[\"test\"]"
   ]
  },
  {
   "cell_type": "code",
   "execution_count": null,
   "metadata": {},
   "outputs": [],
   "source": [
    "batch_size = 2\n",
    "\n",
    "dataloader = DataLoader(test_dataset, batch_size=batch_size)"
   ]
  },
  {
   "cell_type": "markdown",
   "metadata": {},
   "source": [
    "## Run Model Inference"
   ]
  },
  {
   "cell_type": "code",
   "execution_count": null,
   "metadata": {},
   "outputs": [],
   "source": [
    "results = {}\n",
    "bos = tokenizer.bos_token\n",
    "eos = tokenizer.eos_token\n",
    "for batch in tqdm(dataloader):\n",
    "\n",
    "    inputs = [\n",
    "        f\"### Instruktioner:\\n{prompt}\\n### Indata:\\n{source}\\n### Utdata:\\n\\n\"\n",
    "        for source in batch[\"source\"]\n",
    "    ]\n",
    "\n",
    "    model_inputs = tokenizer(\n",
    "        inputs,\n",
    "        max_length=MAX_LENGTH,\n",
    "        padding=\"max_length\",\n",
    "        return_tensors=\"pt\"\n",
    "    )\n",
    "    \"\"\"\n",
    "    sources = [prompt + bos + source for source in batch[\"source\"]]\n",
    "    #targets = [bos + target + eos for target in batch[\"target\"]]\n",
    "\n",
    "    model_inputs = tokenizer(\n",
    "        sources,\n",
    "        max_length=MAX_LENGTH,\n",
    "        padding=\"max_length\",\n",
    "        return_tensors=\"pt\"\n",
    "    )\n",
    "\n",
    "    #labels = tokenizer(\n",
    "    #    targets,\n",
    "    #    max_length=MAX_LENGTH,\n",
    "    #    padding=\"max_length\",\n",
    "    #    return_tensors=\"pt\"\n",
    "    #)\n",
    "\n",
    "    #model_inputs[\"labels\"] = labels[\"input_ids\"]\n",
    "    \"\"\"\n",
    "\n",
    "    model_inputs = {k: v.to(device) for k, v in model_inputs.items()}\n",
    "    with torch.no_grad():\n",
    "        outputs = model.generate(\n",
    "            input_ids=model_inputs[\"input_ids\"],\n",
    "            attention_mask=model_inputs[\"attention_mask\"],\n",
    "            max_new_tokens=MAX_LENGTH\n",
    "        )\n",
    "    essay_texts = tokenizer.batch_decode(outputs, skip_special_tokens=True)\n",
    "    for essay_id, essay_text in zip(batch[\"id\"], essay_texts):\n",
    "        cleaned_essay_text = essay_text.split(\"### Utdata:\\n\")[1]\n",
    "        results[essay_id] = cleaned_essay_text"
   ]
  },
  {
   "cell_type": "code",
   "execution_count": null,
   "metadata": {},
   "outputs": [],
   "source": [
    "essays_md = [\n",
    "    f\"### essay_id = {essay_id}\\n{essay}\\n\\n\"\n",
    "    for essay_id, essay in results.items()\n",
    "]\n",
    "output_md = \"\".join(essays_md)"
   ]
  },
  {
   "cell_type": "markdown",
   "metadata": {},
   "source": [
    "Create path to the output file, which has the below format depending on the edit style.\n",
    "\n",
    "| Version      | Path                                                                   |\n",
    "| ------------ | ---------------------------------------------------------------------- |\n",
    "| Minimal Edit | `./outputs/<model_label>/<version>/sv-swell_gold-hypo-test.md`         |\n",
    "| Fluency Edit | `./outputs/<model_label>/<version>/sv-swell_gold-fluency-hypo-test.md` |\n"
   ]
  },
  {
   "cell_type": "code",
   "execution_count": null,
   "metadata": {},
   "outputs": [],
   "source": [
    "output_dir = path.join(\"outputs\", model_label, version)\n",
    "makedirs(output_dir, exist_ok=True)  # Ensure directory exists\n",
    "infix = \"-fluency\" if version == \"fluency\" else \"\"  # Add fluency infix if needed\n",
    "output_file_name = f\"sv-swell_gold{infix}-hypo-test.md\"\n",
    "output_file_md = path.join(output_dir, output_file_name)"
   ]
  },
  {
   "cell_type": "markdown",
   "metadata": {},
   "source": [
    "Write the full output string to the output file."
   ]
  },
  {
   "cell_type": "code",
   "execution_count": null,
   "metadata": {},
   "outputs": [],
   "source": [
    "with open(output_file_md, \"w+\") as f:\n",
    "    f.write(output_md)"
   ]
  }
 ],
 "metadata": {
  "kernelspec": {
   "display_name": "Python 3",
   "language": "python",
   "name": "python3"
  },
  "language_info": {
   "codemirror_mode": {
    "name": "ipython",
    "version": 3
   },
   "file_extension": ".py",
   "mimetype": "text/x-python",
   "name": "python",
   "nbconvert_exporter": "python",
   "pygments_lexer": "ipython3",
   "version": "3.10.13"
  }
 },
 "nbformat": 4,
 "nbformat_minor": 2
}
